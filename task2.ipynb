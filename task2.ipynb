{
 "cells": [
  {
   "cell_type": "markdown",
   "metadata": {},
   "source": [
    "# Task 2\n",
    "Working\" with Outdoor Point Cloud Scenes\n",
    "Visualizing large-scale point cloud scenes is important when qualitatively evaluating predictions from a machine learning model or exploring what is happening in an outdoor scene. To this end, using Python and Open3D (http://www.open3d.org/docs/release/getting_started.html), implement a visualization of a LiDAR point cloud sequence from the SemanticKITTI dataset. \n",
    "<br>Your implementation should \n",
    "1) Allow you to navigate forward and backward in time using the left and right arrow keys\n",
    "2) Visualize the semantic labels for each point"
   ]
  },
  {
   "cell_type": "markdown",
   "metadata": {},
   "source": [
    "This implementation depends upon the following directory structure\n",
    "```\n",
    "├── task2.ipynb\n",
    "├── color_map.json\n",
    "├── view_status.json\n",
    "└── dataset\n",
    "    └── sequences\n",
    "        └── 00\n",
    "            ├── labels\n",
    "            ├── velodyne\n",
    "            ├── calib.txt\n",
    "            ├── poses.txt\n",
    "            └── times.txt\n",
    "        └── 01\n",
    "        ...\n",
    "```\n"
   ]
  },
  {
   "cell_type": "markdown",
   "metadata": {},
   "source": [
    "# Implementation\n",
    "\n",
    "First we import all necessary packages and set logging config"
   ]
  },
  {
   "cell_type": "code",
   "execution_count": 1,
   "metadata": {},
   "outputs": [
    {
     "name": "stdout",
     "output_type": "stream",
     "text": [
      "Jupyter environment detected. Enabling Open3D WebVisualizer.\n",
      "[Open3D INFO] WebRTC GUI backend enabled.\n",
      "[Open3D INFO] WebRTCWindowSystem: HTTP handshake server disabled.\n"
     ]
    }
   ],
   "source": [
    "import open3d as o3d\n",
    "import numpy as np\n",
    "import os\n",
    "import json\n",
    "import logging\n",
    "from typing import Dict, List\n",
    "from io import StringIO\n",
    "\n",
    "# Configure logging\n",
    "logging.basicConfig(\n",
    "    level=logging.INFO, format=\"%(asctime)s - %(levelname)s - %(message)s\"\n",
    ")"
   ]
  },
  {
   "cell_type": "markdown",
   "metadata": {},
   "source": [
    "\n",
    "\n",
    "Then we define a class called 'SemanticKITTIVisualizer' to visualize SemanticKITTI dataset point clouds with semantic labels with the following \n",
    "\n",
    "Attributes of the class\n",
    "1. `base_dir` (str) => The base directory of the dataset. (e.g. \"./dataset sequences/\")\n",
    "2. `seq_idx` (str) => The sequence index. (e.g. \"01\")\n",
    "3. `color_map` (Dict[int, np.ndarray]) => A dictionary mapping labels to RGB colors.\n",
    "4. `scan_dir` (str) => Directory containing scan files.   (e.g. \"./dataset/sequences/01/velodyne\")\n",
    "5. `label_dir` (str) => Directory containing label files.  (e.g. \"./dataset/sequences/01/labels\")\n",
    "6. `scan_files` (List[str]) => Sorted list of file names from scan_dir\n",
    "7. `label_files` (List[str]) => Sorted list of file names from label_dir\n",
    "8. `pcd` (o3d.geometry.PointCloud) => The point cloud object.\n",
    "9. `geometry_added` (bool) => Flag indicating if geometry has been added to the visualizer.\n",
    "10. `view_status_file` (str) => path to file containing view_status config of the visualizer\n",
    "11. `point_size` (int) => size of each point\n"
   ]
  },
  {
   "cell_type": "code",
   "execution_count": 2,
   "metadata": {},
   "outputs": [],
   "source": [
    "class SemanticKITTIVisualizer:\n",
    "    def __init__(\n",
    "        self,\n",
    "        base_dir: str,\n",
    "        seq_idx: str,\n",
    "        color_map_file: str,\n",
    "        view_status_file: str,\n",
    "        point_size: int,\n",
    "    ) -> None:\n",
    "        \"\"\"\n",
    "        Initialize the SemanticKITTIVisualizer.\n",
    "\n",
    "        Args:\n",
    "        base_dir (str): The base directory of the dataset.\n",
    "        seq_idx (str): The sequence index.\n",
    "        color_map_file (str): Path to the JSON file containing the color map.\n",
    "        \"\"\"\n",
    "        self.base_dir = base_dir\n",
    "        self.seq_idx = seq_idx\n",
    "        self.color_map = self.load_color_map(color_map_file)\n",
    "        self.view_status_file = view_status_file\n",
    "        self.point_size = point_size\n",
    "        self.scan_dir = os.path.join(base_dir, seq_idx, \"velodyne\")\n",
    "        self.label_dir = os.path.join(base_dir, seq_idx, \"labels\")\n",
    "        self.scan_files = sorted(os.listdir(self.scan_dir))\n",
    "        self.label_files = sorted(os.listdir(self.label_dir))\n",
    "        self.pcd = o3d.geometry.PointCloud()\n",
    "        self.geometry_added = False\n",
    "        logging.info(\"SemanticKITTIVisualizer initialized\")\n",
    "\n",
    "\n",
    "def add_to_class(Class):  # @save\n",
    "    \"\"\"Register functions as methods in created class.\"\"\"\n",
    "\n",
    "    def wrapper(obj):\n",
    "        setattr(Class, obj.__name__, obj)\n",
    "\n",
    "    return wrapper"
   ]
  },
  {
   "cell_type": "markdown",
   "metadata": {},
   "source": [
    "### Methods\n",
    "Now we can go about defining our methods\n"
   ]
  },
  {
   "cell_type": "code",
   "execution_count": 3,
   "metadata": {},
   "outputs": [],
   "source": [
    "@add_to_class(SemanticKITTIVisualizer)\n",
    "def load_color_map(self, color_map_file: str) -> Dict[int, np.ndarray]:\n",
    "    \"\"\"\n",
    "    Load the color map from a JSON file.\n",
    "\n",
    "    Args:\n",
    "    color_map_file (str): Path to the JSON file containing the color map.\n",
    "\n",
    "    Returns:\n",
    "    Dict[int, np.ndarray]: A dictionary mapping labels to RGB colors.\n",
    "    \"\"\"\n",
    "    with open(color_map_file) as f:\n",
    "        color_map = json.load(f)\n",
    "    logging.info(\"Color map loaded\")\n",
    "    return {int(k): np.array(v, dtype=np.float32) / 255.0 for k, v in color_map.items()}"
   ]
  },
  {
   "cell_type": "code",
   "execution_count": 4,
   "metadata": {},
   "outputs": [],
   "source": [
    "@add_to_class(SemanticKITTIVisualizer)\n",
    "def read_bin(self, file_path: str) -> np.ndarray:\n",
    "    \"\"\"\n",
    "    Read a binary file containing point cloud data.\n",
    "\n",
    "    Args:\n",
    "    file_path (str): Path to the binary file.\n",
    "\n",
    "    Returns:\n",
    "    np.ndarray: An array of point cloud data.\n",
    "    \"\"\"\n",
    "    return np.fromfile(file_path, dtype=np.float32).reshape(-1, 4)"
   ]
  },
  {
   "cell_type": "code",
   "execution_count": 5,
   "metadata": {},
   "outputs": [],
   "source": [
    "@add_to_class(SemanticKITTIVisualizer)\n",
    "def read_label(self, file_path: str) -> np.ndarray:\n",
    "        \"\"\"\n",
    "        Read a binary file containing semantic labels.\n",
    "\n",
    "        Args:\n",
    "        file_path (str): Path to the label file.\n",
    "\n",
    "        Returns:\n",
    "        np.ndarray: An array of semantic labels.\n",
    "        \"\"\"\n",
    "        label = np.fromfile(file_path, dtype=np.uint32)\n",
    "        sem_label = label & 0xFFFF  # Semantic label in lower half\n",
    "        return sem_label\n"
   ]
  },
  {
   "cell_type": "code",
   "execution_count": 6,
   "metadata": {},
   "outputs": [],
   "source": [
    "@add_to_class(SemanticKITTIVisualizer)\n",
    "def update_point_cloud(self, vis: o3d.visualization.Visualizer, idx: int) -> None:\n",
    "        \"\"\"\n",
    "        Update the point cloud with data from the given index.\n",
    "\n",
    "        Args:\n",
    "        vis (o3d.visualization.Visualizer): The Open3D visualizer.\n",
    "        idx (int): The index of the scan and label files to be visualized.\n",
    "        \"\"\"\n",
    "        \n",
    "        scan_file = os.path.join(self.scan_dir, self.scan_files[idx])\n",
    "        label_file = os.path.join(self.label_dir, self.label_files[idx])\n",
    "        \n",
    "        points = self.read_bin(scan_file)[:, :3]  # select all rows and first 3 columns\n",
    "        labels = self.read_label(label_file)\n",
    "        \n",
    "        if points.shape[0] == 0:\n",
    "            logging.warning(f\"No points found in scan {scan_file}\")\n",
    "            return\n",
    "        \n",
    "        colors = np.array([self.color_map.get(label, [0.5, 0.5, 0.5]) for label in labels])\n",
    "        \n",
    "        self.pcd.points = o3d.utility.Vector3dVector(points)\n",
    "        self.pcd.colors = o3d.utility.Vector3dVector(colors)\n",
    "        \n",
    "        if self.geometry_added:\n",
    "            vis.remove_geometry(self.pcd, reset_bounding_box=False)\n",
    "        \n",
    "        vis.add_geometry(self.pcd, reset_bounding_box=not self.geometry_added)\n",
    "        self.geometry_added = True\n",
    "        \n",
    "        vis.update_renderer()\n",
    "\n",
    "        logging.info(f\"Frame {idx + 1}/{len(self.scan_files)} computed\")\n"
   ]
  },
  {
   "cell_type": "code",
   "execution_count": 7,
   "metadata": {},
   "outputs": [],
   "source": [
    "@add_to_class(SemanticKITTIVisualizer)\n",
    "def set_view_status(self, vis: o3d.visualization.Visualizer) -> None:\n",
    "        \"\"\"\n",
    "        Sets the camera view of the visualizer\n",
    "\n",
    "        Args:\n",
    "        vis (o3d.visualization.Visualizer): The Open3D visualizer.\n",
    "        \"\"\"\n",
    "        with open(self.view_status_file) as f:\n",
    "            view_status = json.load(f)\n",
    "        sio = StringIO()\n",
    "        json.dump(view_status,sio)\n",
    "        view_status_string = sio.getvalue()\n",
    "        vis.set_view_status(view_status_string)\n",
    "        logging.info(\"View status loaded\")"
   ]
  },
  {
   "cell_type": "code",
   "execution_count": 8,
   "metadata": {},
   "outputs": [],
   "source": [
    "@add_to_class(SemanticKITTIVisualizer)\n",
    "def visualize(self) -> None:\n",
    "        \"\"\"\n",
    "        Visualize the SemanticKITTI dataset using Open3D.\n",
    "\n",
    "        This method sets up the Open3D visualizer, registers key callbacks for navigation, \n",
    "        and starts the visualization loop.\n",
    "        \"\"\"\n",
    "        vis = o3d.visualization.VisualizerWithKeyCallback()\n",
    "        vis.create_window(width=1920, height=1055)  # Set window size\n",
    "        \n",
    "        current_idx = [0]\n",
    "        self.update_point_cloud(vis, current_idx[0])\n",
    "        \n",
    "        def next(vis: o3d.visualization.Visualizer) -> None:\n",
    "            if current_idx[0] < len(self.scan_files) - 1:\n",
    "                current_idx[0] += 1\n",
    "                self.update_point_cloud(vis, current_idx[0])\n",
    "        \n",
    "        def prev(vis: o3d.visualization.Visualizer) -> None:\n",
    "            if current_idx[0] > 0:\n",
    "                current_idx[0] -= 1\n",
    "                self.update_point_cloud(vis, current_idx[0])\n",
    "        \n",
    "        vis.register_key_callback(262, next)  # Right arrow key\n",
    "        vis.register_key_callback(263, prev)  # Left arrow key\n",
    "        \n",
    "        vis.get_render_option().background_color = np.array([0, 0, 0])  # Set background to black\n",
    "        vis.get_render_option().point_size = self.point_size  \n",
    "        \n",
    "        def print_view_status(vis: o3d.visualization.Visualizer) -> None:\n",
    "             logging.info(f\"View status of visualizer: {vis.get_view_status()}\")\n",
    "\n",
    "        vis.register_key_callback(ord(\"V\"), print_view_status)    # 'V' key to print view status of visualizer\n",
    "        \n",
    "        vis.poll_events()\n",
    "        vis.update_renderer()\n",
    "        self.set_view_status(vis)\n",
    "\n",
    "        vis.run()\n",
    "        vis.destroy_window()"
   ]
  },
  {
   "cell_type": "markdown",
   "metadata": {},
   "source": [
    "### Execute and Run"
   ]
  },
  {
   "cell_type": "markdown",
   "metadata": {},
   "source": [
    "* Press right arrow key ▶ to go forward one sequence <br>\n",
    "* Press left arrow key ◀ to go backward one sequence"
   ]
  },
  {
   "cell_type": "code",
   "execution_count": 11,
   "metadata": {},
   "outputs": [
    {
     "name": "stderr",
     "output_type": "stream",
     "text": [
      "2024-06-07 13:44:49,170 - INFO - Color map loaded\n",
      "2024-06-07 13:44:49,173 - INFO - SemanticKITTIVisualizer initialized\n",
      "2024-06-07 13:44:49,946 - INFO - Frame 1/1101 computed\n",
      "2024-06-07 13:44:49,969 - INFO - View status loaded\n",
      "2024-06-07 13:44:53,823 - INFO - Frame 2/1101 computed\n",
      "2024-06-07 13:44:54,729 - INFO - Frame 3/1101 computed\n",
      "2024-06-07 13:44:55,403 - INFO - Frame 4/1101 computed\n",
      "2024-06-07 13:44:55,998 - INFO - Frame 5/1101 computed\n",
      "2024-06-07 13:44:56,870 - INFO - Frame 6/1101 computed\n",
      "2024-06-07 13:44:57,564 - INFO - Frame 7/1101 computed\n"
     ]
    }
   ],
   "source": [
    "base_dir = \"./dataset/sequences/\"\n",
    "seq_idx = \"01\"\n",
    "color_map_file = \"./color_map.json\"\n",
    "view_status_file = \"./view_status.json\"\n",
    "point_size = 3\n",
    "    \n",
    "visualizer = SemanticKITTIVisualizer(base_dir, seq_idx, color_map_file, view_status_file, point_size)\n",
    "visualizer.visualize()"
   ]
  }
 ],
 "metadata": {
  "kernelspec": {
   "display_name": "task22",
   "language": "python",
   "name": "python3"
  },
  "language_info": {
   "codemirror_mode": {
    "name": "ipython",
    "version": 3
   },
   "file_extension": ".py",
   "mimetype": "text/x-python",
   "name": "python",
   "nbconvert_exporter": "python",
   "pygments_lexer": "ipython3",
   "version": "3.11.9"
  }
 },
 "nbformat": 4,
 "nbformat_minor": 2
}
